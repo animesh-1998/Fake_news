{
 "cells": [
  {
   "cell_type": "code",
   "execution_count": 1,
   "id": "8f334637",
   "metadata": {
    "_cell_guid": "b1076dfc-b9ad-4769-8c92-a6c4dae69d19",
    "_uuid": "8f2839f25d086af736a60e9eeb907d3b93b6e0e5",
    "execution": {
     "iopub.execute_input": "2024-02-21T13:29:05.545459Z",
     "iopub.status.busy": "2024-02-21T13:29:05.544632Z",
     "iopub.status.idle": "2024-02-21T13:29:06.241122Z",
     "shell.execute_reply": "2024-02-21T13:29:06.240099Z"
    },
    "papermill": {
     "duration": 0.712131,
     "end_time": "2024-02-21T13:29:06.243291",
     "exception": false,
     "start_time": "2024-02-21T13:29:05.531160",
     "status": "completed"
    },
    "tags": []
   },
   "outputs": [
    {
     "name": "stdout",
     "output_type": "stream",
     "text": [
      "/kaggle/input/fake-news-detection-datasets/News _dataset/True.csv\n",
      "/kaggle/input/fake-news-detection-datasets/News _dataset/Fake.csv\n"
     ]
    }
   ],
   "source": [
    "# This Python 3 environment comes with many helpful analytics libraries installed\n",
    "# It is defined by the kaggle/python Docker image: https://github.com/kaggle/docker-python\n",
    "# For example, here's several helpful packages to load\n",
    "\n",
    "import numpy as np # linear algebra\n",
    "import pandas as pd # data processing, CSV file I/O (e.g. pd.read_csv)\n",
    "\n",
    "# Input data files are available in the read-only \"../input/\" directory\n",
    "# For example, running this (by clicking run or pressing Shift+Enter) will list all files under the input directory\n",
    "\n",
    "import os\n",
    "for dirname, _, filenames in os.walk('/kaggle/input'):\n",
    "    for filename in filenames:\n",
    "        print(os.path.join(dirname, filename))\n",
    "\n",
    "# You can write up to 20GB to the current directory (/kaggle/working/) that gets preserved as output when you create a version using \"Save & Run All\" \n",
    "# You can also write temporary files to /kaggle/temp/, but they won't be saved outside of the current session"
   ]
  },
  {
   "cell_type": "markdown",
   "id": "3daabef2",
   "metadata": {
    "papermill": {
     "duration": 0.011262,
     "end_time": "2024-02-21T13:29:06.288995",
     "exception": false,
     "start_time": "2024-02-21T13:29:06.277733",
     "status": "completed"
    },
    "tags": []
   },
   "source": [
    "# Summary🖋️\n",
    "Fake news refers to deliberately fabricated or misleading information presented as factual news. It often aims to deceive readers or viewers for various purposes, such as influencing opinions, spreading propaganda, or generating revenue through clicks. Detecting fake news is crucial in combating misinformation and maintaining the integrity of journalism and public discourse. Deep learning techniques, such as natural language processing and neural networks, can be effective in identifying patterns and features indicative of fake news, helping to automate the process of verification and fact-checking."
   ]
  },
  {
   "cell_type": "markdown",
   "id": "efe7077d",
   "metadata": {
    "papermill": {
     "duration": 0.011942,
     "end_time": "2024-02-21T13:29:06.312195",
     "exception": false,
     "start_time": "2024-02-21T13:29:06.300253",
     "status": "completed"
    },
    "tags": []
   },
   "source": [
    "# What you will find in this notebook📒-\n",
    "1. Utilizing **LSTM (Long Short-Term Memory) RNN** for Fake News Detection.\n",
    "2. Feature embedding is constructed before LSTM, facilitating data representation.\n",
    "3. Preprocessing includes **stemming\n",
    "SnowballStemmer\n",
    "regex** using **stemming\n",
    "SnowballStemmer\n",
    "regex** and **stemming\n",
    "SnowballStemmer\n",
    "regex** cleaning.\n",
    "4. One-hot encoding by **Keras** prepares textual data for LSTM input.\n",
    "5. Adam optimizer and **binary_crossentropy** loss function are employed during model compilation.\n",
    "6. Model performance evaluation includes **classification report and confusion matrix**.\n",
    "7. Determination of the optimal **threshold value** for prediction refinement."
   ]
  },
  {
   "cell_type": "code",
   "execution_count": 2,
   "id": "65dac56c",
   "metadata": {
    "execution": {
     "iopub.execute_input": "2024-02-21T13:29:06.359114Z",
     "iopub.status.busy": "2024-02-21T13:29:06.358160Z",
     "iopub.status.idle": "2024-02-21T13:29:19.450217Z",
     "shell.execute_reply": "2024-02-21T13:29:19.449195Z"
    },
    "papermill": {
     "duration": 13.106914,
     "end_time": "2024-02-21T13:29:19.452604",
     "exception": false,
     "start_time": "2024-02-21T13:29:06.345690",
     "status": "completed"
    },
    "tags": []
   },
   "outputs": [
    {
     "name": "stderr",
     "output_type": "stream",
     "text": [
      "2024-02-21 13:29:08.894198: E external/local_xla/xla/stream_executor/cuda/cuda_dnn.cc:9261] Unable to register cuDNN factory: Attempting to register factory for plugin cuDNN when one has already been registered\n",
      "2024-02-21 13:29:08.894314: E external/local_xla/xla/stream_executor/cuda/cuda_fft.cc:607] Unable to register cuFFT factory: Attempting to register factory for plugin cuFFT when one has already been registered\n",
      "2024-02-21 13:29:09.012260: E external/local_xla/xla/stream_executor/cuda/cuda_blas.cc:1515] Unable to register cuBLAS factory: Attempting to register factory for plugin cuBLAS when one has already been registered\n"
     ]
    }
   ],
   "source": [
    "# importing libraries\n",
    "import pandas as pd\n",
    "import numpy as np\n",
    "import matplotlib.pyplot as plt\n",
    "from sklearn.preprocessing import LabelEncoder\n",
    "from keras import Sequential\n",
    "from keras.layers import Embedding, Dense, LSTM\n",
    "from keras.preprocessing.text import one_hot\n",
    "from keras.utils import pad_sequences\n",
    "import nltk\n",
    "from nltk.stem.snowball import SnowballStemmer\n",
    "import regex as re\n",
    "from nltk.tokenize import sent_tokenize\n",
    "from sklearn.metrics import accuracy_score, confusion_matrix, classification_report\n",
    "from sklearn.model_selection import train_test_split\n",
    "import warnings\n",
    "warnings.filterwarnings('ignore')\n",
    "from nltk.corpus import stopwords\n"
   ]
  },
  {
   "cell_type": "code",
   "execution_count": 3,
   "id": "d29dc770",
   "metadata": {
    "_kg_hide-output": true,
    "execution": {
     "iopub.execute_input": "2024-02-21T13:29:19.477621Z",
     "iopub.status.busy": "2024-02-21T13:29:19.477056Z",
     "iopub.status.idle": "2024-02-21T13:29:19.633996Z",
     "shell.execute_reply": "2024-02-21T13:29:19.633095Z"
    },
    "papermill": {
     "duration": 0.171624,
     "end_time": "2024-02-21T13:29:19.636229",
     "exception": false,
     "start_time": "2024-02-21T13:29:19.464605",
     "status": "completed"
    },
    "tags": []
   },
   "outputs": [
    {
     "name": "stdout",
     "output_type": "stream",
     "text": [
      "[nltk_data] Downloading package stopwords to /usr/share/nltk_data...\n",
      "[nltk_data]   Package stopwords is already up-to-date!\n",
      "[nltk_data] Downloading package punkt to /usr/share/nltk_data...\n",
      "[nltk_data]   Package punkt is already up-to-date!\n",
      "[nltk_data] Downloading package wordnet to /usr/share/nltk_data...\n",
      "[nltk_data]   Package wordnet is already up-to-date!\n"
     ]
    }
   ],
   "source": [
    "# download some packages\n",
    "nltk.download('stopwords')\n",
    "nltk.download('punkt')\n",
    "nltk.download('wordnet')\n",
    "\n",
    "stop_words = stopwords.words('english')"
   ]
  },
  {
   "cell_type": "code",
   "execution_count": 4,
   "id": "05c328ba",
   "metadata": {
    "execution": {
     "iopub.execute_input": "2024-02-21T13:29:19.660998Z",
     "iopub.status.busy": "2024-02-21T13:29:19.660673Z",
     "iopub.status.idle": "2024-02-21T13:29:21.995953Z",
     "shell.execute_reply": "2024-02-21T13:29:21.994957Z"
    },
    "papermill": {
     "duration": 2.350172,
     "end_time": "2024-02-21T13:29:21.998316",
     "exception": false,
     "start_time": "2024-02-21T13:29:19.648144",
     "status": "completed"
    },
    "tags": []
   },
   "outputs": [],
   "source": [
    "# datasets\n",
    "df_fake = pd.read_csv(r\"C:\\Users\\anime\\OneDrive\\Desktop\\Data Science Projects\\Fake_news_detection\\News _dataset\\Fake.csv\")\n",
    "df_true = pd.read_csv(r\"C:\\Users\\anime\\OneDrive\\Desktop\\Data Science Projects\\Fake_news_detection\\News _dataset\\True.csv\")"
   ]
  },
  {
   "cell_type": "code",
   "execution_count": 5,
   "id": "92a65088",
   "metadata": {
    "execution": {
     "iopub.execute_input": "2024-02-21T13:29:22.023498Z",
     "iopub.status.busy": "2024-02-21T13:29:22.023169Z",
     "iopub.status.idle": "2024-02-21T13:29:22.037931Z",
     "shell.execute_reply": "2024-02-21T13:29:22.037005Z"
    },
    "papermill": {
     "duration": 0.029527,
     "end_time": "2024-02-21T13:29:22.039873",
     "exception": false,
     "start_time": "2024-02-21T13:29:22.010346",
     "status": "completed"
    },
    "tags": []
   },
   "outputs": [
    {
     "data": {
      "text/html": [
       "<div>\n",
       "<style scoped>\n",
       "    .dataframe tbody tr th:only-of-type {\n",
       "        vertical-align: middle;\n",
       "    }\n",
       "\n",
       "    .dataframe tbody tr th {\n",
       "        vertical-align: top;\n",
       "    }\n",
       "\n",
       "    .dataframe thead th {\n",
       "        text-align: right;\n",
       "    }\n",
       "</style>\n",
       "<table border=\"1\" class=\"dataframe\">\n",
       "  <thead>\n",
       "    <tr style=\"text-align: right;\">\n",
       "      <th></th>\n",
       "      <th>title</th>\n",
       "      <th>text</th>\n",
       "      <th>subject</th>\n",
       "      <th>date</th>\n",
       "    </tr>\n",
       "  </thead>\n",
       "  <tbody>\n",
       "    <tr>\n",
       "      <th>0</th>\n",
       "      <td>As U.S. budget fight looms, Republicans flip t...</td>\n",
       "      <td>WASHINGTON (Reuters) - The head of a conservat...</td>\n",
       "      <td>politicsNews</td>\n",
       "      <td>December 31, 2017</td>\n",
       "    </tr>\n",
       "    <tr>\n",
       "      <th>1</th>\n",
       "      <td>U.S. military to accept transgender recruits o...</td>\n",
       "      <td>WASHINGTON (Reuters) - Transgender people will...</td>\n",
       "      <td>politicsNews</td>\n",
       "      <td>December 29, 2017</td>\n",
       "    </tr>\n",
       "    <tr>\n",
       "      <th>2</th>\n",
       "      <td>Senior U.S. Republican senator: 'Let Mr. Muell...</td>\n",
       "      <td>WASHINGTON (Reuters) - The special counsel inv...</td>\n",
       "      <td>politicsNews</td>\n",
       "      <td>December 31, 2017</td>\n",
       "    </tr>\n",
       "    <tr>\n",
       "      <th>3</th>\n",
       "      <td>FBI Russia probe helped by Australian diplomat...</td>\n",
       "      <td>WASHINGTON (Reuters) - Trump campaign adviser ...</td>\n",
       "      <td>politicsNews</td>\n",
       "      <td>December 30, 2017</td>\n",
       "    </tr>\n",
       "    <tr>\n",
       "      <th>4</th>\n",
       "      <td>Trump wants Postal Service to charge 'much mor...</td>\n",
       "      <td>SEATTLE/WASHINGTON (Reuters) - President Donal...</td>\n",
       "      <td>politicsNews</td>\n",
       "      <td>December 29, 2017</td>\n",
       "    </tr>\n",
       "  </tbody>\n",
       "</table>\n",
       "</div>"
      ],
      "text/plain": [
       "                                               title  \\\n",
       "0  As U.S. budget fight looms, Republicans flip t...   \n",
       "1  U.S. military to accept transgender recruits o...   \n",
       "2  Senior U.S. Republican senator: 'Let Mr. Muell...   \n",
       "3  FBI Russia probe helped by Australian diplomat...   \n",
       "4  Trump wants Postal Service to charge 'much mor...   \n",
       "\n",
       "                                                text       subject  \\\n",
       "0  WASHINGTON (Reuters) - The head of a conservat...  politicsNews   \n",
       "1  WASHINGTON (Reuters) - Transgender people will...  politicsNews   \n",
       "2  WASHINGTON (Reuters) - The special counsel inv...  politicsNews   \n",
       "3  WASHINGTON (Reuters) - Trump campaign adviser ...  politicsNews   \n",
       "4  SEATTLE/WASHINGTON (Reuters) - President Donal...  politicsNews   \n",
       "\n",
       "                 date  \n",
       "0  December 31, 2017   \n",
       "1  December 29, 2017   \n",
       "2  December 31, 2017   \n",
       "3  December 30, 2017   \n",
       "4  December 29, 2017   "
      ]
     },
     "execution_count": 5,
     "metadata": {},
     "output_type": "execute_result"
    }
   ],
   "source": [
    "df_true.head()"
   ]
  },
  {
   "cell_type": "code",
   "execution_count": 6,
   "id": "c693b038",
   "metadata": {
    "execution": {
     "iopub.execute_input": "2024-02-21T13:29:22.065293Z",
     "iopub.status.busy": "2024-02-21T13:29:22.064940Z",
     "iopub.status.idle": "2024-02-21T13:29:22.075636Z",
     "shell.execute_reply": "2024-02-21T13:29:22.074725Z"
    },
    "papermill": {
     "duration": 0.02612,
     "end_time": "2024-02-21T13:29:22.077954",
     "exception": false,
     "start_time": "2024-02-21T13:29:22.051834",
     "status": "completed"
    },
    "tags": []
   },
   "outputs": [
    {
     "data": {
      "text/html": [
       "<div>\n",
       "<style scoped>\n",
       "    .dataframe tbody tr th:only-of-type {\n",
       "        vertical-align: middle;\n",
       "    }\n",
       "\n",
       "    .dataframe tbody tr th {\n",
       "        vertical-align: top;\n",
       "    }\n",
       "\n",
       "    .dataframe thead th {\n",
       "        text-align: right;\n",
       "    }\n",
       "</style>\n",
       "<table border=\"1\" class=\"dataframe\">\n",
       "  <thead>\n",
       "    <tr style=\"text-align: right;\">\n",
       "      <th></th>\n",
       "      <th>title</th>\n",
       "      <th>text</th>\n",
       "      <th>subject</th>\n",
       "      <th>date</th>\n",
       "    </tr>\n",
       "  </thead>\n",
       "  <tbody>\n",
       "    <tr>\n",
       "      <th>0</th>\n",
       "      <td>Donald Trump Sends Out Embarrassing New Year’...</td>\n",
       "      <td>Donald Trump just couldn t wish all Americans ...</td>\n",
       "      <td>News</td>\n",
       "      <td>December 31, 2017</td>\n",
       "    </tr>\n",
       "    <tr>\n",
       "      <th>1</th>\n",
       "      <td>Drunk Bragging Trump Staffer Started Russian ...</td>\n",
       "      <td>House Intelligence Committee Chairman Devin Nu...</td>\n",
       "      <td>News</td>\n",
       "      <td>December 31, 2017</td>\n",
       "    </tr>\n",
       "    <tr>\n",
       "      <th>2</th>\n",
       "      <td>Sheriff David Clarke Becomes An Internet Joke...</td>\n",
       "      <td>On Friday, it was revealed that former Milwauk...</td>\n",
       "      <td>News</td>\n",
       "      <td>December 30, 2017</td>\n",
       "    </tr>\n",
       "    <tr>\n",
       "      <th>3</th>\n",
       "      <td>Trump Is So Obsessed He Even Has Obama’s Name...</td>\n",
       "      <td>On Christmas day, Donald Trump announced that ...</td>\n",
       "      <td>News</td>\n",
       "      <td>December 29, 2017</td>\n",
       "    </tr>\n",
       "    <tr>\n",
       "      <th>4</th>\n",
       "      <td>Pope Francis Just Called Out Donald Trump Dur...</td>\n",
       "      <td>Pope Francis used his annual Christmas Day mes...</td>\n",
       "      <td>News</td>\n",
       "      <td>December 25, 2017</td>\n",
       "    </tr>\n",
       "  </tbody>\n",
       "</table>\n",
       "</div>"
      ],
      "text/plain": [
       "                                               title  \\\n",
       "0   Donald Trump Sends Out Embarrassing New Year’...   \n",
       "1   Drunk Bragging Trump Staffer Started Russian ...   \n",
       "2   Sheriff David Clarke Becomes An Internet Joke...   \n",
       "3   Trump Is So Obsessed He Even Has Obama’s Name...   \n",
       "4   Pope Francis Just Called Out Donald Trump Dur...   \n",
       "\n",
       "                                                text subject  \\\n",
       "0  Donald Trump just couldn t wish all Americans ...    News   \n",
       "1  House Intelligence Committee Chairman Devin Nu...    News   \n",
       "2  On Friday, it was revealed that former Milwauk...    News   \n",
       "3  On Christmas day, Donald Trump announced that ...    News   \n",
       "4  Pope Francis used his annual Christmas Day mes...    News   \n",
       "\n",
       "                date  \n",
       "0  December 31, 2017  \n",
       "1  December 31, 2017  \n",
       "2  December 30, 2017  \n",
       "3  December 29, 2017  \n",
       "4  December 25, 2017  "
      ]
     },
     "execution_count": 6,
     "metadata": {},
     "output_type": "execute_result"
    }
   ],
   "source": [
    "df_fake.head()"
   ]
  },
  {
   "cell_type": "code",
   "execution_count": 7,
   "id": "e5d5bc24",
   "metadata": {
    "execution": {
     "iopub.execute_input": "2024-02-21T13:29:22.105374Z",
     "iopub.status.busy": "2024-02-21T13:29:22.104563Z",
     "iopub.status.idle": "2024-02-21T13:29:22.111666Z",
     "shell.execute_reply": "2024-02-21T13:29:22.110781Z"
    },
    "papermill": {
     "duration": 0.022593,
     "end_time": "2024-02-21T13:29:22.113738",
     "exception": false,
     "start_time": "2024-02-21T13:29:22.091145",
     "status": "completed"
    },
    "tags": []
   },
   "outputs": [],
   "source": [
    "# label them seperately \n",
    "df_true['status'] = 0\n",
    "df_fake['status'] = 1"
   ]
  },
  {
   "cell_type": "code",
   "execution_count": 8,
   "id": "c1cd80b0",
   "metadata": {
    "execution": {
     "iopub.execute_input": "2024-02-21T13:29:22.140495Z",
     "iopub.status.busy": "2024-02-21T13:29:22.139868Z",
     "iopub.status.idle": "2024-02-21T13:29:22.157384Z",
     "shell.execute_reply": "2024-02-21T13:29:22.156359Z"
    },
    "papermill": {
     "duration": 0.033165,
     "end_time": "2024-02-21T13:29:22.159514",
     "exception": false,
     "start_time": "2024-02-21T13:29:22.126349",
     "status": "completed"
    },
    "tags": []
   },
   "outputs": [],
   "source": [
    "# merge and remove unnecessary columns\n",
    "df = pd.concat([df_true,df_fake])\n",
    "df.drop(['subject','text','date'],axis=1,inplace=True)"
   ]
  },
  {
   "cell_type": "markdown",
   "id": "e8dfe2a3",
   "metadata": {
    "papermill": {
     "duration": 0.011999,
     "end_time": "2024-02-21T13:29:22.184230",
     "exception": false,
     "start_time": "2024-02-21T13:29:22.172231",
     "status": "completed"
    },
    "tags": []
   },
   "source": [
    "* Since we are going to build model only based on the title feature, hence dropped text, date , subject"
   ]
  },
  {
   "cell_type": "code",
   "execution_count": 9,
   "id": "86ec5122",
   "metadata": {
    "execution": {
     "iopub.execute_input": "2024-02-21T13:29:22.209863Z",
     "iopub.status.busy": "2024-02-21T13:29:22.209517Z",
     "iopub.status.idle": "2024-02-21T13:29:22.221317Z",
     "shell.execute_reply": "2024-02-21T13:29:22.220563Z"
    },
    "papermill": {
     "duration": 0.027252,
     "end_time": "2024-02-21T13:29:22.223571",
     "exception": false,
     "start_time": "2024-02-21T13:29:22.196319",
     "status": "completed"
    },
    "tags": []
   },
   "outputs": [],
   "source": [
    "# let's blend the smoothie\n",
    "random_indexes = np.random.randint(0,len(df),len(df))\n",
    "df = df.iloc[random_indexes].reset_index(drop=True)"
   ]
  },
  {
   "cell_type": "markdown",
   "id": "bdfae1c7",
   "metadata": {
    "papermill": {
     "duration": 0.011924,
     "end_time": "2024-02-21T13:29:22.248536",
     "exception": false,
     "start_time": "2024-02-21T13:29:22.236612",
     "status": "completed"
    },
    "tags": []
   },
   "source": [
    "## Text analysis"
   ]
  },
  {
   "cell_type": "code",
   "execution_count": 10,
   "id": "a2a5b6b3",
   "metadata": {
    "execution": {
     "iopub.execute_input": "2024-02-21T13:29:22.274185Z",
     "iopub.status.busy": "2024-02-21T13:29:22.273627Z",
     "iopub.status.idle": "2024-02-21T13:29:22.285706Z",
     "shell.execute_reply": "2024-02-21T13:29:22.284725Z"
    },
    "papermill": {
     "duration": 0.027495,
     "end_time": "2024-02-21T13:29:22.288015",
     "exception": false,
     "start_time": "2024-02-21T13:29:22.260520",
     "status": "completed"
    },
    "tags": []
   },
   "outputs": [
    {
     "data": {
      "text/html": [
       "<div>\n",
       "<style scoped>\n",
       "    .dataframe tbody tr th:only-of-type {\n",
       "        vertical-align: middle;\n",
       "    }\n",
       "\n",
       "    .dataframe tbody tr th {\n",
       "        vertical-align: top;\n",
       "    }\n",
       "\n",
       "    .dataframe thead th {\n",
       "        text-align: right;\n",
       "    }\n",
       "</style>\n",
       "<table border=\"1\" class=\"dataframe\">\n",
       "  <thead>\n",
       "    <tr style=\"text-align: right;\">\n",
       "      <th></th>\n",
       "      <th>title</th>\n",
       "      <th>status</th>\n",
       "    </tr>\n",
       "  </thead>\n",
       "  <tbody>\n",
       "    <tr>\n",
       "      <th>36981</th>\n",
       "      <td>FOX NEWS REPORTER ASKS MAYOR Why She’s Using Taxpayer Money To Sue Family For Epic Christmas Light Display [VIDEO]</td>\n",
       "      <td>1</td>\n",
       "    </tr>\n",
       "    <tr>\n",
       "      <th>29681</th>\n",
       "      <td>Iran ‘Will Respond’ if US Moves to Designate Revolutionary Guard as ‘Terrorist Group’</td>\n",
       "      <td>1</td>\n",
       "    </tr>\n",
       "    <tr>\n",
       "      <th>7091</th>\n",
       "      <td>For 'Apprentice' insiders, Trump's 2016 bid has echoes of reality TV</td>\n",
       "      <td>0</td>\n",
       "    </tr>\n",
       "    <tr>\n",
       "      <th>31084</th>\n",
       "      <td>DETROIT COP UNDER FIRE FOR FACEBOOK POST: “The only racists here are the piece of (expletive) Black Lives Matter terrorists and their supporters” [VIDEO]</td>\n",
       "      <td>1</td>\n",
       "    </tr>\n",
       "    <tr>\n",
       "      <th>27434</th>\n",
       "      <td>WATCH TUCKER CARLSON Scorch Sanctuary City Mayor: “Don’t you believe in laws?” [Video]</td>\n",
       "      <td>1</td>\n",
       "    </tr>\n",
       "    <tr>\n",
       "      <th>31686</th>\n",
       "      <td>EGYPTIAN COURT SENTENCES MUSLIM BROTHERHOOD LEADER AND 13 OTHERS TO DEATH AND LEADER’S “Peaceful” U.S.-Egyptian Brother To Life In Prison</td>\n",
       "      <td>1</td>\n",
       "    </tr>\n",
       "    <tr>\n",
       "      <th>18290</th>\n",
       "      <td>WATCH: MSNBC’S HATE-FILLED LIBERAL Host Chris Matthews Makes Joke About President Trump Assassinating His Son-In-Law…No Media Outrage</td>\n",
       "      <td>1</td>\n",
       "    </tr>\n",
       "    <tr>\n",
       "      <th>16031</th>\n",
       "      <td>Trump Tries To Shake Polish First Lady’s Hand, She Refuses To Touch Him (VIDEO)</td>\n",
       "      <td>1</td>\n",
       "    </tr>\n",
       "    <tr>\n",
       "      <th>17248</th>\n",
       "      <td>Orlando killer expressed support for multiple Islamist groups</td>\n",
       "      <td>0</td>\n",
       "    </tr>\n",
       "    <tr>\n",
       "      <th>41426</th>\n",
       "      <td>REPORT: Trump And Companies Tied To Over 100 Lawsuits, Tax Evasion</td>\n",
       "      <td>1</td>\n",
       "    </tr>\n",
       "    <tr>\n",
       "      <th>26159</th>\n",
       "      <td>Russia says Syrian air defenses to be beefed up after U.S. strikes: agencies</td>\n",
       "      <td>0</td>\n",
       "    </tr>\n",
       "    <tr>\n",
       "      <th>43309</th>\n",
       "      <td>[VIDEO] FED UP DRIVER IN SUV PLOWS THROUGH FERGUSON PROTESTERS BLOCKING BUSY HIGHWAY… #DontPlayInTheStreets</td>\n",
       "      <td>1</td>\n",
       "    </tr>\n",
       "    <tr>\n",
       "      <th>28605</th>\n",
       "      <td>OBAMA REGIME Uses Image Of U.S. Constitution In Spanish Speaking Ad Encouraging Illegals To Become Citizens/Voters</td>\n",
       "      <td>1</td>\n",
       "    </tr>\n",
       "    <tr>\n",
       "      <th>42606</th>\n",
       "      <td>Obama says cautiously optimistic of getting TPP trade deal passed</td>\n",
       "      <td>0</td>\n",
       "    </tr>\n",
       "    <tr>\n",
       "      <th>28419</th>\n",
       "      <td>Trump blasts 'rigged' rules on picking Republican delegates</td>\n",
       "      <td>0</td>\n",
       "    </tr>\n",
       "    <tr>\n",
       "      <th>2856</th>\n",
       "      <td>Indiana puts Donald Trump’s evangelical support to test</td>\n",
       "      <td>0</td>\n",
       "    </tr>\n",
       "    <tr>\n",
       "      <th>17287</th>\n",
       "      <td>LOL! SARAH SANDERS MOCKS CNN’s April Ryan…Sends Hilarious Tweets To Verify Authenticity Of Her Homemade Pecan Pies</td>\n",
       "      <td>1</td>\n",
       "    </tr>\n",
       "    <tr>\n",
       "      <th>7864</th>\n",
       "      <td>Factbox: Trump on Twitter (April 19) - Georgia elections, Karen Handel</td>\n",
       "      <td>0</td>\n",
       "    </tr>\n",
       "    <tr>\n",
       "      <th>6650</th>\n",
       "      <td>Watch Trump Turn Into Crazy Repeating Parrot As He Threatens To Sue Ted Cruz (VIDEO)</td>\n",
       "      <td>1</td>\n",
       "    </tr>\n",
       "    <tr>\n",
       "      <th>24094</th>\n",
       "      <td>WATCH: Elizabeth Warren Skewers Donald Trump For Cheering For Financial Setbacks That Benefit Him</td>\n",
       "      <td>1</td>\n",
       "    </tr>\n",
       "  </tbody>\n",
       "</table>\n",
       "</div>"
      ],
      "text/plain": [
       "                                                                                                                                                           title  \\\n",
       "36981                                         FOX NEWS REPORTER ASKS MAYOR Why She’s Using Taxpayer Money To Sue Family For Epic Christmas Light Display [VIDEO]   \n",
       "29681                                                                      Iran ‘Will Respond’ if US Moves to Designate Revolutionary Guard as ‘Terrorist Group’   \n",
       "7091                                                                                        For 'Apprentice' insiders, Trump's 2016 bid has echoes of reality TV   \n",
       "31084  DETROIT COP UNDER FIRE FOR FACEBOOK POST: “The only racists here are the piece of (expletive) Black Lives Matter terrorists and their supporters” [VIDEO]   \n",
       "27434                                                                     WATCH TUCKER CARLSON Scorch Sanctuary City Mayor: “Don’t you believe in laws?” [Video]   \n",
       "31686                  EGYPTIAN COURT SENTENCES MUSLIM BROTHERHOOD LEADER AND 13 OTHERS TO DEATH AND LEADER’S “Peaceful” U.S.-Egyptian Brother To Life In Prison   \n",
       "18290                      WATCH: MSNBC’S HATE-FILLED LIBERAL Host Chris Matthews Makes Joke About President Trump Assassinating His Son-In-Law…No Media Outrage   \n",
       "16031                                                                            Trump Tries To Shake Polish First Lady’s Hand, She Refuses To Touch Him (VIDEO)   \n",
       "17248                                                                                              Orlando killer expressed support for multiple Islamist groups   \n",
       "41426                                                                                         REPORT: Trump And Companies Tied To Over 100 Lawsuits, Tax Evasion   \n",
       "26159                                                                               Russia says Syrian air defenses to be beefed up after U.S. strikes: agencies   \n",
       "43309                                                [VIDEO] FED UP DRIVER IN SUV PLOWS THROUGH FERGUSON PROTESTERS BLOCKING BUSY HIGHWAY… #DontPlayInTheStreets   \n",
       "28605                                         OBAMA REGIME Uses Image Of U.S. Constitution In Spanish Speaking Ad Encouraging Illegals To Become Citizens/Voters   \n",
       "42606                                                                                          Obama says cautiously optimistic of getting TPP trade deal passed   \n",
       "28419                                                                                                Trump blasts 'rigged' rules on picking Republican delegates   \n",
       "2856                                                                                                     Indiana puts Donald Trump’s evangelical support to test   \n",
       "17287                                         LOL! SARAH SANDERS MOCKS CNN’s April Ryan…Sends Hilarious Tweets To Verify Authenticity Of Her Homemade Pecan Pies   \n",
       "7864                                                                                      Factbox: Trump on Twitter (April 19) - Georgia elections, Karen Handel   \n",
       "6650                                                                        Watch Trump Turn Into Crazy Repeating Parrot As He Threatens To Sue Ted Cruz (VIDEO)   \n",
       "24094                                                          WATCH: Elizabeth Warren Skewers Donald Trump For Cheering For Financial Setbacks That Benefit Him   \n",
       "\n",
       "       status  \n",
       "36981       1  \n",
       "29681       1  \n",
       "7091        0  \n",
       "31084       1  \n",
       "27434       1  \n",
       "31686       1  \n",
       "18290       1  \n",
       "16031       1  \n",
       "17248       0  \n",
       "41426       1  \n",
       "26159       0  \n",
       "43309       1  \n",
       "28605       1  \n",
       "42606       0  \n",
       "28419       0  \n",
       "2856        0  \n",
       "17287       1  \n",
       "7864        0  \n",
       "6650        1  \n",
       "24094       1  "
      ]
     },
     "execution_count": 10,
     "metadata": {},
     "output_type": "execute_result"
    }
   ],
   "source": [
    "pd.set_option('display.max_colwidth', 500)\n",
    "random = np.random.randint(0,len(df),20)\n",
    "df.iloc[random]"
   ]
  },
  {
   "cell_type": "markdown",
   "id": "677c7385",
   "metadata": {
    "papermill": {
     "duration": 0.012395,
     "end_time": "2024-02-21T13:29:22.313265",
     "exception": false,
     "start_time": "2024-02-21T13:29:22.300870",
     "status": "completed"
    },
    "tags": []
   },
   "source": [
    "* work needs to be done on data before feeding to neural network-\n",
    "1. Remove punctuations eg \"\"\n",
    "2. Convert uppercase to lowercase\n",
    "3. No need to apply stemming, otherwise it will just shorten the word unnecessary\n",
    "4. Apply lemmatization\n",
    "5. Remove all the stopwords\n",
    "6. Finally make vocabulary after completion of 5 steps"
   ]
  },
  {
   "cell_type": "code",
   "execution_count": 11,
   "id": "9457c505",
   "metadata": {
    "execution": {
     "iopub.execute_input": "2024-02-21T13:29:22.340134Z",
     "iopub.status.busy": "2024-02-21T13:29:22.339436Z",
     "iopub.status.idle": "2024-02-21T13:29:22.353007Z",
     "shell.execute_reply": "2024-02-21T13:29:22.352156Z"
    },
    "papermill": {
     "duration": 0.029074,
     "end_time": "2024-02-21T13:29:22.354891",
     "exception": false,
     "start_time": "2024-02-21T13:29:22.325817",
     "status": "completed"
    },
    "tags": []
   },
   "outputs": [
    {
     "data": {
      "text/plain": [
       "title     0\n",
       "status    0\n",
       "dtype: int64"
      ]
     },
     "execution_count": 11,
     "metadata": {},
     "output_type": "execute_result"
    }
   ],
   "source": [
    "# Null values\n",
    "df.isnull().sum()"
   ]
  },
  {
   "cell_type": "code",
   "execution_count": 12,
   "id": "39c78c64",
   "metadata": {
    "execution": {
     "iopub.execute_input": "2024-02-21T13:29:22.381703Z",
     "iopub.status.busy": "2024-02-21T13:29:22.381163Z",
     "iopub.status.idle": "2024-02-21T13:29:22.473553Z",
     "shell.execute_reply": "2024-02-21T13:29:22.472612Z"
    },
    "papermill": {
     "duration": 0.107835,
     "end_time": "2024-02-21T13:29:22.475443",
     "exception": false,
     "start_time": "2024-02-21T13:29:22.367608",
     "status": "completed"
    },
    "tags": []
   },
   "outputs": [
    {
     "name": "stdout",
     "output_type": "stream",
     "text": [
      "longest sentence having length -\n",
      "42\n"
     ]
    }
   ],
   "source": [
    "# longest sentence length \n",
    "def longest_sentence_length(text):\n",
    "  return len(text.split())\n",
    "\n",
    "df['maximum_length'] = df['title'].apply(lambda x : longest_sentence_length(x))\n",
    "print('longest sentence having length -')\n",
    "max_length = max(df['maximum_length'].values)\n",
    "print(max_length)"
   ]
  },
  {
   "cell_type": "code",
   "execution_count": 13,
   "id": "19435a86",
   "metadata": {
    "execution": {
     "iopub.execute_input": "2024-02-21T13:29:22.502428Z",
     "iopub.status.busy": "2024-02-21T13:29:22.502108Z",
     "iopub.status.idle": "2024-02-21T13:29:22.508028Z",
     "shell.execute_reply": "2024-02-21T13:29:22.507172Z"
    },
    "papermill": {
     "duration": 0.021301,
     "end_time": "2024-02-21T13:29:22.509845",
     "exception": false,
     "start_time": "2024-02-21T13:29:22.488544",
     "status": "completed"
    },
    "tags": []
   },
   "outputs": [],
   "source": [
    "# Text cleaning\n",
    "text_cleaning = \"\\b0\\S*|\\b[^A-Za-z0-9]+\"\n",
    "\n",
    "def preprocess_filter(text, stem=False):\n",
    "  text = re.sub(text_cleaning, \" \",str(text.lower()).strip())\n",
    "  tokens = []\n",
    "  for token in text.split():\n",
    "    if token not in stop_words:\n",
    "      if stem:\n",
    "        stemmer = SnowballStemmer(language='english')\n",
    "        token = stemmer.stem(token)\n",
    "      tokens.append(token)\n",
    "  return \" \".join(tokens)"
   ]
  },
  {
   "cell_type": "markdown",
   "id": "aa1f8958",
   "metadata": {
    "papermill": {
     "duration": 0.012549,
     "end_time": "2024-02-21T13:29:22.535178",
     "exception": false,
     "start_time": "2024-02-21T13:29:22.522629",
     "status": "completed"
    },
    "tags": []
   },
   "source": [
    "* The regular expression pattern removes non-alphanumeric characters and digits, enhancing text cleanliness for subsequent analysis.\n",
    "* Text preprocessing function standardizes text by converting it to lowercase, removing stop words, and optionally applying stemming, facilitating effective natural language processing.\n",
    "* Stemming simplifies words to their root forms, aiding in capturing underlying semantic meanings and improving search accuracy.\n",
    "* Removal of stop words reduces noise in text data, focusing on informative words and enhancing the quality of subsequent analysis."
   ]
  },
  {
   "cell_type": "code",
   "execution_count": 14,
   "id": "78a61d9f",
   "metadata": {
    "execution": {
     "iopub.execute_input": "2024-02-21T13:29:22.562703Z",
     "iopub.status.busy": "2024-02-21T13:29:22.562351Z",
     "iopub.status.idle": "2024-02-21T13:29:22.566788Z",
     "shell.execute_reply": "2024-02-21T13:29:22.565969Z"
    },
    "papermill": {
     "duration": 0.020481,
     "end_time": "2024-02-21T13:29:22.568807",
     "exception": false,
     "start_time": "2024-02-21T13:29:22.548326",
     "status": "completed"
    },
    "tags": []
   },
   "outputs": [],
   "source": [
    "# Word embedding with pre padding \n",
    "def one_hot_encoded(text,vocab_size=5000,max_length = 40):\n",
    "    hot_encoded = one_hot(text,vocab_size)\n",
    "    return hot_encoded"
   ]
  },
  {
   "cell_type": "code",
   "execution_count": 15,
   "id": "5cc49304",
   "metadata": {
    "execution": {
     "iopub.execute_input": "2024-02-21T13:29:22.595725Z",
     "iopub.status.busy": "2024-02-21T13:29:22.595367Z",
     "iopub.status.idle": "2024-02-21T13:29:22.600053Z",
     "shell.execute_reply": "2024-02-21T13:29:22.599169Z"
    },
    "papermill": {
     "duration": 0.020475,
     "end_time": "2024-02-21T13:29:22.601989",
     "exception": false,
     "start_time": "2024-02-21T13:29:22.581514",
     "status": "completed"
    },
    "tags": []
   },
   "outputs": [],
   "source": [
    "# word embedding pipeline\n",
    "def word_embedding(text):\n",
    "    preprocessed_text=preprocess_filter(text)\n",
    "    return one_hot_encoded(preprocessed_text)"
   ]
  },
  {
   "cell_type": "code",
   "execution_count": 16,
   "id": "a2ff29b0",
   "metadata": {
    "execution": {
     "iopub.execute_input": "2024-02-21T13:29:22.629825Z",
     "iopub.status.busy": "2024-02-21T13:29:22.629483Z",
     "iopub.status.idle": "2024-02-21T13:29:24.070985Z",
     "shell.execute_reply": "2024-02-21T13:29:24.069089Z"
    },
    "papermill": {
     "duration": 1.460307,
     "end_time": "2024-02-21T13:29:24.075647",
     "exception": false,
     "start_time": "2024-02-21T13:29:22.615340",
     "status": "completed"
    },
    "tags": []
   },
   "outputs": [
    {
     "name": "stdout",
     "output_type": "stream",
     "text": [
      "Model: \"sequential\"\n",
      "_________________________________________________________________\n",
      " Layer (type)                Output Shape              Param #   \n",
      "=================================================================\n",
      " embedding (Embedding)       (None, 42, 40)            200000    \n",
      "                                                                 \n",
      " lstm (LSTM)                 (None, 100)               56400     \n",
      "                                                                 \n",
      " dense (Dense)               (None, 1)                 101       \n",
      "                                                                 \n",
      "=================================================================\n",
      "Total params: 256501 (1001.96 KB)\n",
      "Trainable params: 256501 (1001.96 KB)\n",
      "Non-trainable params: 0 (0.00 Byte)\n",
      "_________________________________________________________________\n",
      "None\n"
     ]
    }
   ],
   "source": [
    "# Creating NN Model\n",
    "embedded_features = 40\n",
    "model = Sequential()\n",
    "model.add(Embedding(5000,embedded_features,input_length = max_length))\n",
    "model.add(LSTM(100))\n",
    "model.add(Dense(1,activation='sigmoid'))\n",
    "model.compile(loss = 'binary_crossentropy',optimizer= 'adam',metrics = ['accuracy'])\n",
    "print(model.summary())"
   ]
  },
  {
   "cell_type": "markdown",
   "id": "cf07b58d",
   "metadata": {
    "papermill": {
     "duration": 0.013948,
     "end_time": "2024-02-21T13:29:24.103641",
     "exception": false,
     "start_time": "2024-02-21T13:29:24.089693",
     "status": "completed"
    },
    "tags": []
   },
   "source": [
    "* The model utilizes a vocabulary size of 5000, reflecting the extensive nature of the dataset and the need to handle a wide range of words effectively.\n",
    "* By embedding input tokens into 40-dimensional vectors, the model captures nuanced semantic relationships, crucial for understanding the complex language patterns present in the dataset.\n",
    "* Leveraging an LSTM layer with 100 units, the model effectively learns from the extensive sequential data, ensuring it captures long-term dependencies and context effectively.\n",
    "* With a final dense layer employing a sigmoid activation function, the model delivers binary classification predictions, adeptly classifying the vast and varied dataset with accuracy."
   ]
  },
  {
   "cell_type": "code",
   "execution_count": 17,
   "id": "06c56628",
   "metadata": {
    "execution": {
     "iopub.execute_input": "2024-02-21T13:29:24.133726Z",
     "iopub.status.busy": "2024-02-21T13:29:24.133383Z",
     "iopub.status.idle": "2024-02-21T13:29:26.929430Z",
     "shell.execute_reply": "2024-02-21T13:29:26.928602Z"
    },
    "papermill": {
     "duration": 2.813512,
     "end_time": "2024-02-21T13:29:26.931690",
     "exception": false,
     "start_time": "2024-02-21T13:29:24.118178",
     "status": "completed"
    },
    "tags": []
   },
   "outputs": [],
   "source": [
    "# One hot encoded title\n",
    "one_hot_encoded_title =df['title'].apply(lambda x : word_embedding(x)).values"
   ]
  },
  {
   "cell_type": "code",
   "execution_count": 18,
   "id": "11a6fe4e",
   "metadata": {
    "execution": {
     "iopub.execute_input": "2024-02-21T13:29:26.961643Z",
     "iopub.status.busy": "2024-02-21T13:29:26.961324Z",
     "iopub.status.idle": "2024-02-21T13:29:27.165676Z",
     "shell.execute_reply": "2024-02-21T13:29:27.164884Z"
    },
    "papermill": {
     "duration": 0.221732,
     "end_time": "2024-02-21T13:29:27.167895",
     "exception": false,
     "start_time": "2024-02-21T13:29:26.946163",
     "status": "completed"
    },
    "tags": []
   },
   "outputs": [],
   "source": [
    "# padding to make the size equal of the sequences\n",
    "padded_encoded_title = pad_sequences(one_hot_encoded_title,maxlen=max_length,padding = 'pre')"
   ]
  },
  {
   "cell_type": "code",
   "execution_count": 19,
   "id": "10ea0ce5",
   "metadata": {
    "execution": {
     "iopub.execute_input": "2024-02-21T13:29:27.198399Z",
     "iopub.status.busy": "2024-02-21T13:29:27.197733Z",
     "iopub.status.idle": "2024-02-21T13:29:27.203509Z",
     "shell.execute_reply": "2024-02-21T13:29:27.202667Z"
    },
    "papermill": {
     "duration": 0.023199,
     "end_time": "2024-02-21T13:29:27.205661",
     "exception": false,
     "start_time": "2024-02-21T13:29:27.182462",
     "status": "completed"
    },
    "tags": []
   },
   "outputs": [
    {
     "name": "stdout",
     "output_type": "stream",
     "text": [
      "(44898, 42)\n",
      "(44898,)\n"
     ]
    }
   ],
   "source": [
    "# Splitting \n",
    "X = padded_encoded_title\n",
    "y = df['status'].values\n",
    "y = np.array(y)\n",
    "\n",
    "# shapes\n",
    "print(X.shape)\n",
    "print(y.shape)"
   ]
  },
  {
   "cell_type": "code",
   "execution_count": 20,
   "id": "f2280628",
   "metadata": {
    "execution": {
     "iopub.execute_input": "2024-02-21T13:29:27.235938Z",
     "iopub.status.busy": "2024-02-21T13:29:27.235276Z",
     "iopub.status.idle": "2024-02-21T13:29:27.239763Z",
     "shell.execute_reply": "2024-02-21T13:29:27.238938Z"
    },
    "papermill": {
     "duration": 0.021913,
     "end_time": "2024-02-21T13:29:27.242291",
     "exception": false,
     "start_time": "2024-02-21T13:29:27.220378",
     "status": "completed"
    },
    "tags": []
   },
   "outputs": [
    {
     "name": "stdout",
     "output_type": "stream",
     "text": [
      "X shape (44898, 42)\n",
      "y shape (44898,)\n"
     ]
    }
   ],
   "source": [
    "# shape and size\n",
    "print('X shape {}'.format(X.shape))\n",
    "print('y shape {}'.format(y.shape))"
   ]
  },
  {
   "cell_type": "code",
   "execution_count": 21,
   "id": "d1ee3afe",
   "metadata": {
    "execution": {
     "iopub.execute_input": "2024-02-21T13:29:27.272182Z",
     "iopub.status.busy": "2024-02-21T13:29:27.271452Z",
     "iopub.status.idle": "2024-02-21T13:29:27.288955Z",
     "shell.execute_reply": "2024-02-21T13:29:27.287868Z"
    },
    "papermill": {
     "duration": 0.034574,
     "end_time": "2024-02-21T13:29:27.290933",
     "exception": false,
     "start_time": "2024-02-21T13:29:27.256359",
     "status": "completed"
    },
    "tags": []
   },
   "outputs": [
    {
     "name": "stdout",
     "output_type": "stream",
     "text": [
      "X train shape (33673, 42)\n",
      "X test shape (11225, 42)\n",
      "y train shape (33673,)\n",
      "y test shape (11225,)\n"
     ]
    }
   ],
   "source": [
    "# Splitting into training, testing\n",
    "X_train,X_test,y_train,y_test = train_test_split(X,y, random_state = 42)\n",
    "\n",
    "# Shape and size of train and test dataset\n",
    "print('X train shape {}'.format(X_train.shape))\n",
    "print('X test shape {}'.format(X_test.shape))\n",
    "print('y train shape {}'.format(y_train.shape))\n",
    "print('y test shape {}'.format(y_test.shape))"
   ]
  },
  {
   "cell_type": "code",
   "execution_count": 22,
   "id": "06b942a7",
   "metadata": {
    "execution": {
     "iopub.execute_input": "2024-02-21T13:29:27.321459Z",
     "iopub.status.busy": "2024-02-21T13:29:27.320642Z",
     "iopub.status.idle": "2024-02-21T13:30:42.143126Z",
     "shell.execute_reply": "2024-02-21T13:30:42.142083Z"
    },
    "papermill": {
     "duration": 74.839792,
     "end_time": "2024-02-21T13:30:42.145228",
     "exception": false,
     "start_time": "2024-02-21T13:29:27.305436",
     "status": "completed"
    },
    "tags": []
   },
   "outputs": [
    {
     "name": "stdout",
     "output_type": "stream",
     "text": [
      "Epoch 1/15\n"
     ]
    },
    {
     "name": "stderr",
     "output_type": "stream",
     "text": [
      "WARNING: All log messages before absl::InitializeLog() is called are written to STDERR\n",
      "I0000 00:00:1708522170.522540      70 device_compiler.h:186] Compiled cluster using XLA!  This line is logged at most once for the lifetime of the process.\n"
     ]
    },
    {
     "name": "stdout",
     "output_type": "stream",
     "text": [
      "527/527 [==============================] - 23s 38ms/step - loss: 0.1991 - accuracy: 0.9167 - val_loss: 0.1147 - val_accuracy: 0.9564\n",
      "Epoch 2/15\n",
      "527/527 [==============================] - 5s 10ms/step - loss: 0.0739 - accuracy: 0.9742 - val_loss: 0.0976 - val_accuracy: 0.9666\n",
      "Epoch 3/15\n",
      "527/527 [==============================] - 4s 7ms/step - loss: 0.0418 - accuracy: 0.9866 - val_loss: 0.1018 - val_accuracy: 0.9691\n",
      "Epoch 4/15\n",
      "527/527 [==============================] - 4s 7ms/step - loss: 0.0238 - accuracy: 0.9928 - val_loss: 0.1234 - val_accuracy: 0.9657\n",
      "Epoch 5/15\n",
      "527/527 [==============================] - 4s 7ms/step - loss: 0.0151 - accuracy: 0.9957 - val_loss: 0.1598 - val_accuracy: 0.9674\n",
      "Epoch 6/15\n",
      "527/527 [==============================] - 4s 7ms/step - loss: 0.0137 - accuracy: 0.9958 - val_loss: 0.1558 - val_accuracy: 0.9678\n",
      "Epoch 7/15\n",
      "527/527 [==============================] - 4s 7ms/step - loss: 0.0095 - accuracy: 0.9969 - val_loss: 0.1787 - val_accuracy: 0.9695\n",
      "Epoch 8/15\n",
      "527/527 [==============================] - 4s 8ms/step - loss: 0.0061 - accuracy: 0.9983 - val_loss: 0.1819 - val_accuracy: 0.9677\n",
      "Epoch 9/15\n",
      "527/527 [==============================] - 4s 7ms/step - loss: 0.0048 - accuracy: 0.9986 - val_loss: 0.2079 - val_accuracy: 0.9652\n",
      "Epoch 10/15\n",
      "527/527 [==============================] - 4s 7ms/step - loss: 0.0057 - accuracy: 0.9982 - val_loss: 0.1975 - val_accuracy: 0.9654\n",
      "Epoch 11/15\n",
      "527/527 [==============================] - 3s 6ms/step - loss: 0.0039 - accuracy: 0.9986 - val_loss: 0.2352 - val_accuracy: 0.9667\n",
      "Epoch 12/15\n",
      "527/527 [==============================] - 3s 6ms/step - loss: 0.0032 - accuracy: 0.9990 - val_loss: 0.2474 - val_accuracy: 0.9591\n",
      "Epoch 13/15\n",
      "527/527 [==============================] - 3s 6ms/step - loss: 0.0018 - accuracy: 0.9993 - val_loss: 0.2177 - val_accuracy: 0.9674\n",
      "Epoch 14/15\n",
      "527/527 [==============================] - 3s 6ms/step - loss: 0.0012 - accuracy: 0.9997 - val_loss: 0.2469 - val_accuracy: 0.9643\n",
      "Epoch 15/15\n",
      "527/527 [==============================] - 3s 6ms/step - loss: 0.0016 - accuracy: 0.9995 - val_loss: 0.2657 - val_accuracy: 0.9660\n"
     ]
    },
    {
     "data": {
      "text/plain": [
       "<keras.src.callbacks.History at 0x7a0ec70e24a0>"
      ]
     },
     "execution_count": 22,
     "metadata": {},
     "output_type": "execute_result"
    }
   ],
   "source": [
    "# Model training\n",
    "# training\n",
    "model.fit(X_train,y_train,validation_data=(X_test,y_test),epochs=15,batch_size=64)"
   ]
  },
  {
   "cell_type": "markdown",
   "id": "3d6fcda7",
   "metadata": {
    "papermill": {
     "duration": 0.087499,
     "end_time": "2024-02-21T13:30:42.327522",
     "exception": false,
     "start_time": "2024-02-21T13:30:42.240023",
     "status": "completed"
    },
    "tags": []
   },
   "source": [
    "## Evaluation"
   ]
  },
  {
   "cell_type": "code",
   "execution_count": 23,
   "id": "39c999c2",
   "metadata": {
    "execution": {
     "iopub.execute_input": "2024-02-21T13:30:42.506284Z",
     "iopub.status.busy": "2024-02-21T13:30:42.505405Z",
     "iopub.status.idle": "2024-02-21T13:30:42.511429Z",
     "shell.execute_reply": "2024-02-21T13:30:42.510532Z"
    },
    "papermill": {
     "duration": 0.097686,
     "end_time": "2024-02-21T13:30:42.513504",
     "exception": false,
     "start_time": "2024-02-21T13:30:42.415818",
     "status": "completed"
    },
    "tags": []
   },
   "outputs": [],
   "source": [
    "# setting threshold value \n",
    "def best_threshold_value(thresholds:list,X_test):\n",
    "    accuracies = []\n",
    "    for thresh in thresholds:\n",
    "        ypred =model.predict(X_test)\n",
    "        ypred = np.where(ypred> thresh,1,0)\n",
    "        accuracies.append(accuracy_score(y_test,ypred))\n",
    "    return pd.DataFrame({\n",
    "        'Threshold': thresholds,\n",
    "        'Accuracy' : accuracies\n",
    "    })"
   ]
  },
  {
   "cell_type": "code",
   "execution_count": 24,
   "id": "1271d444",
   "metadata": {
    "execution": {
     "iopub.execute_input": "2024-02-21T13:30:42.691324Z",
     "iopub.status.busy": "2024-02-21T13:30:42.690374Z",
     "iopub.status.idle": "2024-02-21T13:30:48.993400Z",
     "shell.execute_reply": "2024-02-21T13:30:48.992366Z"
    },
    "papermill": {
     "duration": 6.394331,
     "end_time": "2024-02-21T13:30:48.995698",
     "exception": false,
     "start_time": "2024-02-21T13:30:42.601367",
     "status": "completed"
    },
    "tags": []
   },
   "outputs": [
    {
     "name": "stdout",
     "output_type": "stream",
     "text": [
      "351/351 [==============================] - 1s 2ms/step\n",
      "351/351 [==============================] - 1s 2ms/step\n",
      "351/351 [==============================] - 1s 2ms/step\n",
      "351/351 [==============================] - 1s 2ms/step\n",
      "351/351 [==============================] - 1s 2ms/step\n",
      "351/351 [==============================] - 1s 2ms/step\n"
     ]
    },
    {
     "data": {
      "text/html": [
       "<div>\n",
       "<style scoped>\n",
       "    .dataframe tbody tr th:only-of-type {\n",
       "        vertical-align: middle;\n",
       "    }\n",
       "\n",
       "    .dataframe tbody tr th {\n",
       "        vertical-align: top;\n",
       "    }\n",
       "\n",
       "    .dataframe thead th {\n",
       "        text-align: right;\n",
       "    }\n",
       "</style>\n",
       "<table border=\"1\" class=\"dataframe\">\n",
       "  <thead>\n",
       "    <tr style=\"text-align: right;\">\n",
       "      <th></th>\n",
       "      <th>Threshold</th>\n",
       "      <th>Accuracy</th>\n",
       "    </tr>\n",
       "  </thead>\n",
       "  <tbody>\n",
       "    <tr>\n",
       "      <th>0</th>\n",
       "      <td>0.4</td>\n",
       "      <td>0.965880</td>\n",
       "    </tr>\n",
       "    <tr>\n",
       "      <th>1</th>\n",
       "      <td>0.5</td>\n",
       "      <td>0.965969</td>\n",
       "    </tr>\n",
       "    <tr>\n",
       "      <th>2</th>\n",
       "      <td>0.6</td>\n",
       "      <td>0.966325</td>\n",
       "    </tr>\n",
       "    <tr>\n",
       "      <th>3</th>\n",
       "      <td>0.7</td>\n",
       "      <td>0.966860</td>\n",
       "    </tr>\n",
       "    <tr>\n",
       "      <th>4</th>\n",
       "      <td>0.8</td>\n",
       "      <td>0.966860</td>\n",
       "    </tr>\n",
       "    <tr>\n",
       "      <th>5</th>\n",
       "      <td>0.9</td>\n",
       "      <td>0.966771</td>\n",
       "    </tr>\n",
       "  </tbody>\n",
       "</table>\n",
       "</div>"
      ],
      "text/plain": [
       "   Threshold  Accuracy\n",
       "0        0.4  0.965880\n",
       "1        0.5  0.965969\n",
       "2        0.6  0.966325\n",
       "3        0.7  0.966860\n",
       "4        0.8  0.966860\n",
       "5        0.9  0.966771"
      ]
     },
     "execution_count": 24,
     "metadata": {},
     "output_type": "execute_result"
    }
   ],
   "source": [
    "best_threshold_value([0.4,0.5,0.6,0.7,0.8,0.9], X_test)"
   ]
  },
  {
   "cell_type": "markdown",
   "id": "883ec0d0",
   "metadata": {
    "papermill": {
     "duration": 0.095143,
     "end_time": "2024-02-21T13:30:49.187711",
     "exception": false,
     "start_time": "2024-02-21T13:30:49.092568",
     "status": "completed"
    },
    "tags": []
   },
   "source": [
    "* Not much difference in accuray \n",
    "* But the most suitable threshold value we have got is **0.4**"
   ]
  },
  {
   "cell_type": "code",
   "execution_count": 25,
   "id": "32b15f37",
   "metadata": {
    "execution": {
     "iopub.execute_input": "2024-02-21T13:30:49.382089Z",
     "iopub.status.busy": "2024-02-21T13:30:49.381281Z",
     "iopub.status.idle": "2024-02-21T13:30:50.335869Z",
     "shell.execute_reply": "2024-02-21T13:30:50.334956Z"
    },
    "papermill": {
     "duration": 1.053743,
     "end_time": "2024-02-21T13:30:50.338183",
     "exception": false,
     "start_time": "2024-02-21T13:30:49.284440",
     "status": "completed"
    },
    "tags": []
   },
   "outputs": [
    {
     "name": "stdout",
     "output_type": "stream",
     "text": [
      "351/351 [==============================] - 1s 2ms/step\n"
     ]
    }
   ],
   "source": [
    "# Predictino value at threshold 0.4\n",
    "y_pred = model.predict(X_test)\n",
    "y_pred = np.where(y_pred >0.4, 1, 0)"
   ]
  },
  {
   "cell_type": "code",
   "execution_count": 26,
   "id": "2161d043",
   "metadata": {
    "execution": {
     "iopub.execute_input": "2024-02-21T13:30:50.536046Z",
     "iopub.status.busy": "2024-02-21T13:30:50.535206Z",
     "iopub.status.idle": "2024-02-21T13:30:50.556228Z",
     "shell.execute_reply": "2024-02-21T13:30:50.555187Z"
    },
    "papermill": {
     "duration": 0.122109,
     "end_time": "2024-02-21T13:30:50.558496",
     "exception": false,
     "start_time": "2024-02-21T13:30:50.436387",
     "status": "completed"
    },
    "tags": []
   },
   "outputs": [
    {
     "name": "stdout",
     "output_type": "stream",
     "text": [
      "Confusion matrix\n",
      "[[5045  153]\n",
      " [ 230 5797]]\n",
      "----------------\n",
      "Classification report\n",
      "              precision    recall  f1-score   support\n",
      "\n",
      "           0       0.96      0.97      0.96      5198\n",
      "           1       0.97      0.96      0.97      6027\n",
      "\n",
      "    accuracy                           0.97     11225\n",
      "   macro avg       0.97      0.97      0.97     11225\n",
      "weighted avg       0.97      0.97      0.97     11225\n",
      "\n"
     ]
    }
   ],
   "source": [
    "# Confusion matrix\n",
    "print('Confusion matrix')\n",
    "print(confusion_matrix(y_pred,y_test))\n",
    "print('----------------')\n",
    "print('Classification report')\n",
    "print(classification_report(y_pred,y_test))"
   ]
  },
  {
   "cell_type": "markdown",
   "id": "995c0ccc",
   "metadata": {
    "papermill": {
     "duration": 0.09719,
     "end_time": "2024-02-21T13:30:50.755980",
     "exception": false,
     "start_time": "2024-02-21T13:30:50.658790",
     "status": "completed"
    },
    "tags": []
   },
   "source": [
    "* The model performs well in both classes, with high precision, recall, and F1-score, suggesting robustness in classification.\n",
    "* There is no significant imbalance in performance between the two classes, as evidenced by similar metrics for both classes.\n",
    "* The model's overall performance is excellent, achieving high accuracy on the dataset."
   ]
  },
  {
   "cell_type": "markdown",
   "id": "76df8193",
   "metadata": {
    "papermill": {
     "duration": 0.09789,
     "end_time": "2024-02-21T13:30:50.952610",
     "exception": false,
     "start_time": "2024-02-21T13:30:50.854720",
     "status": "completed"
    },
    "tags": []
   },
   "source": [
    "## Predictions"
   ]
  },
  {
   "cell_type": "code",
   "execution_count": 27,
   "id": "07497eca",
   "metadata": {
    "execution": {
     "iopub.execute_input": "2024-02-21T13:30:51.149670Z",
     "iopub.status.busy": "2024-02-21T13:30:51.148958Z",
     "iopub.status.idle": "2024-02-21T13:30:51.154773Z",
     "shell.execute_reply": "2024-02-21T13:30:51.153870Z"
    },
    "papermill": {
     "duration": 0.106506,
     "end_time": "2024-02-21T13:30:51.156814",
     "exception": false,
     "start_time": "2024-02-21T13:30:51.050308",
     "status": "completed"
    },
    "tags": []
   },
   "outputs": [],
   "source": [
    "# input generator \n",
    "def prediction_input_processing(text):\n",
    "    encoded = word_embedding(text)\n",
    "    padded_encoded_title = pad_sequences([encoded],maxlen=max_length,padding = 'pre')\n",
    "    output = model.predict(padded_encoded_title)\n",
    "    output = np.where(0.4>output,1,0)\n",
    "    if output[0][0] == 1:\n",
    "        return 'Yes this News is fake'\n",
    "    return 'No, It is not fake'   \n",
    "    "
   ]
  },
  {
   "cell_type": "code",
   "execution_count": 28,
   "id": "63f01a45",
   "metadata": {
    "execution": {
     "iopub.execute_input": "2024-02-21T13:30:51.353676Z",
     "iopub.status.busy": "2024-02-21T13:30:51.352765Z",
     "iopub.status.idle": "2024-02-21T13:30:51.423365Z",
     "shell.execute_reply": "2024-02-21T13:30:51.422374Z"
    },
    "papermill": {
     "duration": 0.171824,
     "end_time": "2024-02-21T13:30:51.425277",
     "exception": false,
     "start_time": "2024-02-21T13:30:51.253453",
     "status": "completed"
    },
    "tags": []
   },
   "outputs": [
    {
     "name": "stdout",
     "output_type": "stream",
     "text": [
      "1/1 [==============================] - 0s 20ms/step\n"
     ]
    },
    {
     "data": {
      "text/plain": [
       "'Yes this News is fake'"
      ]
     },
     "execution_count": 28,
     "metadata": {},
     "output_type": "execute_result"
    }
   ],
   "source": [
    "# predictions\n",
    "prediction_input_processing('Americans are more concerned over Indians fake open source contribution')"
   ]
  },
  {
   "cell_type": "code",
   "execution_count": 29,
   "id": "f03eae57",
   "metadata": {
    "execution": {
     "iopub.execute_input": "2024-02-21T13:30:51.623490Z",
     "iopub.status.busy": "2024-02-21T13:30:51.623043Z",
     "iopub.status.idle": "2024-02-21T13:30:51.691389Z",
     "shell.execute_reply": "2024-02-21T13:30:51.690383Z"
    },
    "papermill": {
     "duration": 0.170213,
     "end_time": "2024-02-21T13:30:51.693312",
     "exception": false,
     "start_time": "2024-02-21T13:30:51.523099",
     "status": "completed"
    },
    "tags": []
   },
   "outputs": [
    {
     "name": "stdout",
     "output_type": "stream",
     "text": [
      "1/1 [==============================] - 0s 19ms/step\n"
     ]
    },
    {
     "data": {
      "text/plain": [
       "'No, It is not fake'"
      ]
     },
     "execution_count": 29,
     "metadata": {},
     "output_type": "execute_result"
    }
   ],
   "source": [
    "news = 'Trump Just Sent Michelle Obama a Bill She will Never Be able to pay in her lifetime'\n",
    "prediction_input_processing(news)"
   ]
  },
  {
   "cell_type": "markdown",
   "id": "198c8a3c",
   "metadata": {
    "papermill": {
     "duration": 0.097917,
     "end_time": "2024-02-21T13:30:51.890865",
     "exception": false,
     "start_time": "2024-02-21T13:30:51.792948",
     "status": "completed"
    },
    "tags": []
   },
   "source": [
    "__________________________________________________________"
   ]
  },
  {
   "cell_type": "markdown",
   "id": "17bf1405",
   "metadata": {
    "papermill": {
     "duration": 0.097379,
     "end_time": "2024-02-21T13:30:52.281603",
     "exception": false,
     "start_time": "2024-02-21T13:30:52.184224",
     "status": "completed"
    },
    "tags": []
   },
   "source": [
    "________________________________________________________________"
   ]
  }
 ],
 "metadata": {
  "kaggle": {
   "accelerator": "none",
   "dataSources": [
    {
     "datasetId": 2712039,
     "sourceId": 4679796,
     "sourceType": "datasetVersion"
    }
   ],
   "dockerImageVersionId": 30646,
   "isGpuEnabled": false,
   "isInternetEnabled": true,
   "language": "python",
   "sourceType": "notebook"
  },
  "kernelspec": {
   "display_name": "Python 3",
   "language": "python",
   "name": "python3"
  },
  "language_info": {
   "codemirror_mode": {
    "name": "ipython",
    "version": 3
   },
   "file_extension": ".py",
   "mimetype": "text/x-python",
   "name": "python",
   "nbconvert_exporter": "python",
   "pygments_lexer": "ipython3",
   "version": "3.10.13"
  },
  "papermill": {
   "default_parameters": {},
   "duration": 112.275839,
   "end_time": "2024-02-21T13:30:55.062062",
   "environment_variables": {},
   "exception": null,
   "input_path": "__notebook__.ipynb",
   "output_path": "__notebook__.ipynb",
   "parameters": {},
   "start_time": "2024-02-21T13:29:02.786223",
   "version": "2.5.0"
  }
 },
 "nbformat": 4,
 "nbformat_minor": 5
}
